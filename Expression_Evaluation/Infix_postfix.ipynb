{
 "cells": [
  {
   "cell_type": "markdown",
   "metadata": {},
   "source": [
    "<h3> <font color = 'cyan'> Infix To Post Fix"
   ]
  },
  {
   "cell_type": "code",
   "execution_count": 2,
   "metadata": {},
   "outputs": [],
   "source": [
    "class Stack:\n",
    "    def __init__(self):\n",
    "        self.stack = [None]*100   # initializaing stack size 0f 100\n",
    "        self.top = - 1            # Attribute which takes care of the top element in stack\n",
    "    \n",
    "    def isFull(self):\n",
    "        if self.top == 100:    # Method for checking whether stack is full or not\n",
    "            return True\n",
    "        return False\n",
    "    \n",
    "    def isEmpty(self):\n",
    "        if self.top == -1:      # Method for checking whether stack is Empty, if empty returns true\n",
    "            return True\n",
    "        return False            # Else it would return False\n",
    "    \n",
    "    def Push(self,data):        # Method for pushing an element in the stack\n",
    "        if self.top == 100:\n",
    "            print(\"Stack Overflow\") # If stack is allready full it would Stack overflow and returns\n",
    "            return\n",
    "        self.top += 1               # Top value updated to point to new element\n",
    "        self.stack[self.top] = data   # Else element is push in the stack\n",
    "    \n",
    "    def Pop(self):                  # Method for deleting or popping first element of the stack \n",
    "        if self.top == -1:\n",
    "            print(\"Stack Underflow\")\n",
    "            return\n",
    "        d = self.stack[self.top]\n",
    "        self.top -= 1\n",
    "        return d\n",
    "    def peek(self):                # Method to find top or peek element of a stack\n",
    "        if self.isEmpty():\n",
    "            print('Stack Underflow')\n",
    "            return\n",
    "        return self.stack[self.top]"
   ]
  },
  {
   "cell_type": "code",
   "execution_count": 1,
   "metadata": {},
   "outputs": [],
   "source": [
    "def priority(val):\n",
    "    if val=='(':\n",
    "        return 0\n",
    "    elif val=='+' or val=='-':\n",
    "        return 1\n",
    "    elif val=='*' or val=='/' or val=='%':\n",
    "        return 2\n",
    "    elif val=='^':\n",
    "        return 3\n",
    "    else:\n",
    "        return 0"
   ]
  },
  {
   "cell_type": "code",
   "execution_count": 3,
   "metadata": {},
   "outputs": [],
   "source": [
    "def infix2postfix(val):\n",
    "    postfix = []\n",
    "    s = Stack()\n",
    "    for i in val:\n",
    "        if i == '(':\n",
    "            s.Push(i)\n",
    "        elif i == ')':\n",
    "            value = s.Pop()\n",
    "            while value is not '(':\n",
    "                postfix.append(value)\n",
    "                value = s.Pop()\n",
    "        elif i == '+' or i == '-' or i == '*' or i == '/' or i == '%' or i == '^':\n",
    "            while (s.isEmpty() is False) and priority(s.peek()) >= priority(i):\n",
    "                postfix.append(s.Pop())\n",
    "            s.Push(i)\n",
    "        else:\n",
    "            postfix.append(i)\n",
    "    while s.isEmpty() is not True:\n",
    "        postfix.append(s.Pop())\n",
    "    return postfix"
   ]
  },
  {
   "cell_type": "code",
   "execution_count": 4,
   "metadata": {},
   "outputs": [
    {
     "name": "stdout",
     "output_type": "stream",
     "text": [
      "enter the infix expresion\n",
      "(2*3+4*(5-6))\n",
      "Postfix Value\n",
      "23*456-*+\n"
     ]
    }
   ],
   "source": [
    "print(\"enter the infix expresion\")\n",
    "infix_val=input()\n",
    "postfix=infix2postfix(infix_val)\n",
    "print(\"Postfix Value\")\n",
    "print(''.join(postfix))"
   ]
  }
 ],
 "metadata": {
  "kernelspec": {
   "display_name": "Python 3",
   "language": "python",
   "name": "python3"
  },
  "language_info": {
   "codemirror_mode": {
    "name": "ipython",
    "version": 3
   },
   "file_extension": ".py",
   "mimetype": "text/x-python",
   "name": "python",
   "nbconvert_exporter": "python",
   "pygments_lexer": "ipython3",
   "version": "3.7.3"
  }
 },
 "nbformat": 4,
 "nbformat_minor": 2
}
