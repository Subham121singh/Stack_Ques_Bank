{
 "cells": [
  {
   "cell_type": "markdown",
   "metadata": {},
   "source": [
    "<H2><font color='orange'>Design a stack that supports push, pop, peek, and retrieving the minimum element in constant time."
   ]
  },
  {
   "cell_type": "code",
   "execution_count": 1,
   "metadata": {},
   "outputs": [],
   "source": [
    "class Node:\n",
    "    def __init__(self,data):\n",
    "        self.data = data\n",
    "        self.next = None\n",
    "    \n",
    "class Stack:\n",
    "    def __init__(self):\n",
    "        self.top = None\n",
    "        self.min = None\n",
    "    \n",
    "    def push(self,data):\n",
    "        if self.top is None:\n",
    "            self.top = Node(data)\n",
    "            self.min = data\n",
    "            return\n",
    "        if data <= self.min:\n",
    "            temp = 2*data - self.min\n",
    "            newNode = Node(temp)\n",
    "            newNode.next = self.top\n",
    "            self.top = newNode\n",
    "            self.min = data\n",
    "            return\n",
    "        newNode = Node(data)\n",
    "        newNode.next = self.top\n",
    "        self.top = newNode\n",
    "    def peek(self):\n",
    "        if self.top is None:\n",
    "            print(\"Stack Underflow\")\n",
    "            return\n",
    "        return self.top.data\n",
    "    \n",
    "    def pop(self):\n",
    "        if self.top is None:\n",
    "            print(\"Stack Underflow\")\n",
    "            return\n",
    "        \n",
    "        temp = self.top.data\n",
    "        self.top = self.top.next\n",
    "        if temp <= self.min:\n",
    "            value = self.min\n",
    "            self.min  = 2*self.min - temp\n",
    "            return value\n",
    "        return temp\n",
    "    \n",
    "    def getMin(self):\n",
    "        if self.top is None:\n",
    "            print(\"Stack Underflow\")\n",
    "            return\n",
    "        return self.min\n",
    "    \n",
    "    def display(self):\n",
    "        while top:\n",
    "            print(self.top.data)\n",
    "            self.top = self.top.next\n",
    "        \n",
    "            \n",
    "            "
   ]
  },
  {
   "cell_type": "code",
   "execution_count": 2,
   "metadata": {},
   "outputs": [
    {
     "name": "stdout",
     "output_type": "stream",
     "text": [
      "-2\n",
      "-2\n",
      "-1\n",
      "3\n",
      "-1\n"
     ]
    }
   ],
   "source": [
    "mystack = Stack()\n",
    "mystack.push(1)\n",
    "mystack.push(-1)\n",
    "mystack.push(3)\n",
    "mystack.push(-2)\n",
    "print(mystack.getMin())\n",
    "print(mystack.pop())\n",
    "print(mystack.getMin())\n",
    "print(mystack.pop())\n",
    "print(mystack.getMin())"
   ]
  }
 ],
 "metadata": {
  "kernelspec": {
   "display_name": "Python 3",
   "language": "python",
   "name": "python3"
  },
  "language_info": {
   "codemirror_mode": {
    "name": "ipython",
    "version": 3
   },
   "file_extension": ".py",
   "mimetype": "text/x-python",
   "name": "python",
   "nbconvert_exporter": "python",
   "pygments_lexer": "ipython3",
   "version": "3.7.3"
  }
 },
 "nbformat": 4,
 "nbformat_minor": 2
}
